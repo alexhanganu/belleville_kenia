{
 "cells": [
  {
   "cell_type": "code",
   "execution_count": 1,
   "metadata": {},
   "outputs": [
    {
     "name": "stdout",
     "output_type": "stream",
     "text": [
      "/home/ssp/Dropbox/github/nimb/nimb\n",
      "        credentials are located at: /home/ssp/nimb\n",
      "        credentials are located at: /home/ssp/nimb\n"
     ]
    }
   ],
   "source": [
    "project      = 'belleville_kenia'\n",
    "from bin import nimb_link\n",
    "NIMB_HOME = nimb_link.link_with_nimb()\n",
    "from setup.get_vars import Get_Vars, SetProject\n",
    "from distribution import utilities as utils\n",
    "from stats.db_processing import Table\n",
    "from stats.preprocessing import Preprocess\n",
    "from stats import preprocessing, varia\n",
    "from stats.make_stats_grid import MakeGrid\n",
    "from stats.stats_models import ANOVA_do\n",
    "from stats.plotting import Make_Plot_Regression, Make_plot_group_difference\n",
    "from stats import predict\n",
    "tab = Table()\n",
    "\n",
    "all_vars = Get_Vars()\n",
    "project_vars = all_vars.projects[project]\n",
    "\n",
    "getvars      = Get_Vars()\n",
    "nimb_stats   = getvars.stats_vars\n",
    "projects     = getvars.projects\n",
    "NIMB_tmp     = getvars.location_vars['local']['NIMB_PATHS']['NIMB_tmp']\n",
    "fname_groups = projects[project][\"fname_groups\"]\n",
    "nimb_stats   = SetProject(NIMB_tmp, nimb_stats, project, fname_groups).stats\n",
    "project_vars = projects[project]\n",
    "stats_paths  = nimb_stats['STATS_PATHS']\n",
    "vars_glm     = project_vars['variables_for_glm']"
   ]
  },
  {
   "cell_type": "code",
   "execution_count": 2,
   "metadata": {},
   "outputs": [],
   "source": [
    "# ATTENTION: prediction_target MUST be a group column, that will be converted to y_label\n",
    "# extracting features based on PCA\n",
    "def get_X_data_per_group_all_groups(group):\n",
    "    # extract X_scaled values for the brain parameters\n",
    "        predicted_target = project_vars[\"prediction_target\"]\n",
    "        if not predicted_target:\n",
    "            predicted_target = project_vars[\"group_col\"]\n",
    "        if group == 'all':\n",
    "                df_clin_group = df_user_stats\n",
    "                df_X          = df_adjusted\n",
    "                y_labeled     = preprocessing.label_y(df_user_stats, predicted_target)\n",
    "                X_scaled      = preprocessing.scale_X(df_X)\n",
    "        else:\n",
    "                df_group      = tab.get_df_per_parameter(df_final_grid, project_vars['group_col'], group)\n",
    "                df_clin_group = tab.rm_cols_from_df(df_group, cols_X)\n",
    "                df_X          = tab.rm_cols_from_df(df_group, [i for i in df_group.columns.tolist() if i not in cols_X])\n",
    "                y_labeled     = preprocessing.label_y(df_group, predicted_target)\n",
    "                X_scaled      = preprocessing.scale_X(df_X)\n",
    "        return df_X, y_labeled, X_scaled, df_clin_group"
   ]
  },
  {
   "cell_type": "code",
   "execution_count": 3,
   "metadata": {},
   "outputs": [],
   "source": [
    "from os import path\n",
    "def get_features_df_per_group(group, X_scaled, y_labeled, df_X, pca_threshold):\n",
    "        features_rfe_and_rank_df = 'none'\n",
    "        if use_features:\n",
    "            if feature_algo == 'PCA':# using PCA\n",
    "                    features = predict.get_features_based_on_pca(\n",
    "                                        varia.get_dir(path.join(stats_paths['STATS_HOME'],\n",
    "                                                                stats_paths['features'])),\n",
    "                                        pca_threshold,\n",
    "                                        X_scaled, cols_X,\n",
    "                                        group, atlas, lang)\n",
    "            elif feature_algo == 'RFE': # using RFE\n",
    "                    features, features_rfe_and_rank_df = predict.feature_ranking(X_scaled,\n",
    "                                                                        y_labeled,\n",
    "                                                                        self.cols_X)\n",
    "                    print(\"    number of features extracted by RFE: \",len(features_rfe_and_rank_df.feature))\n",
    "            df_with_features = tab.get_df_from_df(df_X, usecols = features)\n",
    "        else:\n",
    "            df_with_features = tab.get_df_from_df(df_X, usecols = cols_X)\n",
    "            features = cols_X\n",
    "        return df_with_features, features, features_rfe_and_rank_df"
   ]
  },
  {
   "cell_type": "code",
   "execution_count": 4,
   "metadata": {},
   "outputs": [
    {
     "name": "stdout",
     "output_type": "stream",
     "text": [
      "    reading file: /media/g/nimb_tmp/projects/belleville_kenia/stats_groups/stats/stats_groups.csv,\n",
      "        sheet: 0\n",
      "    reading file: /media/g/nimb_tmp/projects/belleville_kenia/stats_groups/stats/grid.csv,\n",
      "        sheet: 0\n"
     ]
    }
   ],
   "source": [
    "df_user_stats, df_final_grid,\\\n",
    "            df_adjusted,\\\n",
    "            cols_X,\\\n",
    "            groups = MakeGrid(projects[project],\n",
    "                                nimb_stats).grid()\n",
    "\n",
    "# must be checked:\n",
    "# col2rm = 'Unnamed: 0'\n",
    "# df_final_grid.drop(columns=[col2rm], inplace=True)"
   ]
  },
  {
   "cell_type": "code",
   "execution_count": null,
   "metadata": {},
   "outputs": [],
   "source": [
    "# DONE: STEP 1 ANOVA\n",
    "# DONE: STEP 2 Simple Linear Regression\n",
    "\n",
    "# some cols have zeros and because of them ANOVA cannot be performed.\n",
    "# this step removes the columns with at least 1 zero\n",
    "\n",
    "cols_with_zeros = list()\n",
    "for col in df_final_grid.columns:\n",
    "    n = df_final_grid[col].isin([0]).sum()\n",
    "    if n>0:\n",
    "        cols_with_zeros.append(col)\n",
    "#(df_final_grid == 0).astype(int).sum(axis=0)\n",
    "#(df_final_grid == 0).sum(axis=1)\n",
    "\n",
    "df_final_grid.drop(columns=cols_with_zeros, inplace=True)\n",
    "features = [i for i in cols_X if i not in cols_with_zeros+[col2rm,]]\n",
    "vars_glm = features#[i for i in vars_glm if i not in cols_with_zeros+[col2rm,]]\n",
    "\n",
    "# for ANOVA zeros must be removed\n",
    "\n",
    "sig_cols = ANOVA_do(df_final_grid,\n",
    "                    vars_glm, features,\n",
    "                    varia.get_dir(stats_paths['anova']),\n",
    "                    p_thresh = 0.05, intercept_thresh = 0.05).sig_cols\n",
    "Make_Plot_Regression(df_final_grid,\n",
    "                    sig_cols, project_vars['group_col'],\n",
    "                    varia.get_dir(stats_paths['simp_lin_reg_dir']))\n",
    "#Make_plot_group_difference(df_final_grid,\n",
    "#                            sig_cols, project_vars['group_col'], groups,\n",
    "#                            varia.get_dir(stats_paths['anova']))"
   ]
  },
  {
   "cell_type": "code",
   "execution_count": 5,
   "metadata": {},
   "outputs": [
    {
     "name": "stdout",
     "output_type": "stream",
     "text": [
      "PowerTransformer()\n"
     ]
    }
   ],
   "source": [
    "group = 'all'\n",
    "df_X, y_labeled, X_scaled, df_clin_group = get_X_data_per_group_all_groups(group)\n",
    "features = cols_X"
   ]
  },
  {
   "cell_type": "code",
   "execution_count": 6,
   "metadata": {},
   "outputs": [
    {
     "name": "stdout",
     "output_type": "stream",
     "text": [
      "    nr of features to analyze by PCA: 537\n",
      "    PCA chose 44 components and 40 features \n",
      "Right_hip_vol not defined\n",
      "ccAnterior not defined\n",
      "beta_1_0back_lball_ROI not defined\n",
      "FA_corrected_1back not defined\n",
      "dprime_2back_0back not defined\n",
      "PuI_THAR not defined\n",
      "dprime_2back_1back not defined\n",
      "RLRI_RT2 not defined\n",
      "Scolprof not defined\n",
      "Hachinski not defined\n",
      "GDS not defined\n",
      "BORB_lignes not defined\n",
      "RLRI_imm not defined\n",
      "Medial_nucleus_AMYR not defined\n",
      "Rey_co_pts not defined\n",
      "RLRI_RL1 not defined\n",
      "Charlson not defined\n",
      "Scol not defined\n",
      "Str_pts_tps not defined\n",
      "beta_1_0back_lbprob_IPL_right not defined\n"
     ]
    },
    {
     "data": {
      "image/png": "[encoded data removed]",
      "text/plain": [
       "<Figure size 432x288 with 1 Axes>"
      ]
     },
     "metadata": {
      "needs_background": "light"
     },
     "output_type": "display_data"
    }
   ],
   "source": [
    "use_features = True\n",
    "feature_algo = \"PCA\"\n",
    "atlas = \"DK\"\n",
    "lang='EN'\n",
    "pca_threshold = 0.95#nimb_stats[\"STATS_PARAMS\"][\"prediction_vars\"]['pca_threshold']\n",
    "df_with_features, features, features_rfe_and_rank_df = get_features_df_per_group(group, X_scaled, y_labeled,\n",
    "                                                                                 df_X, pca_threshold)"
   ]
  },
  {
   "cell_type": "code",
   "execution_count": null,
   "metadata": {},
   "outputs": [],
   "source": []
  }
 ],
 "metadata": {
  "kernelspec": {
   "display_name": "Python 3",
   "language": "python",
   "name": "python3"
  },
  "language_info": {
   "codemirror_mode": {
    "name": "ipython",
    "version": 3
   },
   "file_extension": ".py",
   "mimetype": "text/x-python",
   "name": "python",
   "nbconvert_exporter": "python",
   "pygments_lexer": "ipython3",
   "version": "3.9.1"
  }
 },
 "nbformat": 4,
 "nbformat_minor": 4
}
